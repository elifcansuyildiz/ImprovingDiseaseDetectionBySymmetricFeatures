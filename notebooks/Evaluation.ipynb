{
 "cells": [
  {
   "cell_type": "code",
   "execution_count": null,
   "metadata": {},
   "outputs": [],
   "source": [
    "# Copyright (C) 2023 Elif Cansu YILDIZ\n",
    "# \n",
    "# This program is free software; you can redistribute it and/or modify it under\n",
    "# the terms of the GNU General Public License as published by the Free Software\n",
    "# Foundation; either version 3 of the License, or (at your option) any later\n",
    "# version.\n",
    "# \n",
    "# This program is distributed in the hope that it will be useful, but WITHOUT\n",
    "# ANY WARRANTY; without even the implied warranty of MERCHANTABILITY or FITNESS\n",
    "# FOR A PARTICULAR PURPOSE. See the GNU General Public License for more\n",
    "# details.\n",
    "# \n",
    "# You should have received a copy of the GNU General Public License along with\n",
    "# this program; if not, see <http://www.gnu.org/licenses/>."
   ]
  },
  {
   "attachments": {},
   "cell_type": "markdown",
   "metadata": {},
   "source": [
    "# Experiments"
   ]
  },
  {
   "cell_type": "code",
   "execution_count": 5,
   "metadata": {},
   "outputs": [
    {
     "name": "stdout",
     "output_type": "stream",
     "text": [
      "The autoreload extension is already loaded. To reload it, use:\n",
      "  %reload_ext autoreload\n"
     ]
    }
   ],
   "source": [
    "from medai.utils.eval_utils2 import evaluate_SASN, evaluate_ChexNet_baseline, evaluate_maskrcnn, evaluate_basic_model\n",
    "from medai.utils.eval_utils2 import show_significance_interval_F1, show_significance_interval_balanced_acc, show_significance_interval_AUROC, show_significance_interval_AP\n",
    "\n",
    "import medai.models.SASN_vanilla as sasn_vanilla\n",
    "import medai.models.SASN_split as sasn_split\n",
    "import medai.models.densenet as basic_model\n",
    "from medai.utils import eval_utils\n",
    "import medai.config as config\n",
    "\n",
    "import pickle\n",
    "import yaml\n",
    "import os\n",
    "\n",
    "%load_ext autoreload\n",
    "%autoreload 2"
   ]
  },
  {
   "attachments": {},
   "cell_type": "markdown",
   "metadata": {},
   "source": [
    "## Configurations"
   ]
  },
  {
   "cell_type": "code",
   "execution_count": 4,
   "metadata": {},
   "outputs": [],
   "source": [
    "with open(\"../configs/experiment_set1.yaml\", \"r\") as stream:\n",
    "    experiments = yaml.safe_load(stream)\n",
    "\n",
    "target_masks_pickle_path = \"preds_targets/heatmaps/ground_truth_masks.pickle\"\n",
    "target_bboxes_pickle_path = \"preds_targets/bounding_boxes/ground_truth_boxes.pickle\""
   ]
  },
  {
   "cell_type": "code",
   "execution_count": 31,
   "metadata": {},
   "outputs": [],
   "source": [
    "validation_scores_csv_path = \"csv_outputs/valset_results/experiment_set1_valset_scores.csv\"\n",
    "test_scores_csv_path = \"csv_outputs/experiment_set1_testset_scores.csv\""
   ]
  },
  {
   "attachments": {},
   "cell_type": "markdown",
   "metadata": {},
   "source": [
    "## Classification Scores"
   ]
  },
  {
   "cell_type": "code",
   "execution_count": 32,
   "metadata": {},
   "outputs": [
    {
     "name": "stdout",
     "output_type": "stream",
     "text": [
      "dict_keys(['epoch', 'global_step', 'pytorch-lightning_version', 'state_dict', 'loops', 'callbacks', 'optimizer_states', 'lr_schedulers'])\n",
      "Val Lengths:  303   303\n",
      "val_metric_scores:  {'accuracy': tensor(0.7195), 'F1 score': tensor(0.7859), 'precision': tensor(0.9630), 'recall': tensor(0.6638), 'specificity': tensor(0.9118), 'auroc': tensor(0.8576), 'avg precision': tensor(0.9464)}\n",
      "Test Lengths:  553   553\n",
      "test_metric_scores:  {'accuracy': tensor(0.7450), 'F1 score': tensor(0.8291), 'precision': tensor(0.9884), 'recall': tensor(0.7140), 'specificity': tensor(0.9459), 'auroc': tensor(0.8995), 'avg precision': tensor(0.9822)}\n",
      "Validation Metric Scores: {'accuracy': tensor(0.7195), 'F1 score': tensor(0.7859), 'precision': tensor(0.9630), 'recall': tensor(0.6638), 'specificity': tensor(0.9118), 'auroc': tensor(0.8576), 'avg precision': tensor(0.9464)} \n",
      "Test Metric Scores: {'accuracy': tensor(0.7450), 'F1 score': tensor(0.8291), 'precision': tensor(0.9884), 'recall': tensor(0.7140), 'specificity': tensor(0.9459), 'auroc': tensor(0.8995), 'avg precision': tensor(0.9822)}\n"
     ]
    }
   ],
   "source": [
    "evaluate_SASN(model=sasn_vanilla.SiameseNetwork(include_feature_comparison=False),\n",
    "              model_name=\"sasn_vanilla\",\n",
    "              model_path=os.path.join(config.BASE_DIR, experiments[\"SASN_vanilla\"][\"model_path\"]),\n",
    "              pickle_path=os.path.join(config.BASE_DIR, experiments[\"SASN_vanilla\"][\"labels_pickle_path\"]),\n",
    "              experiment_name=experiments[\"SASN_vanilla\"][\"exp_name\"],\n",
    "              threshold=0.5,\n",
    "              sasn_contrastive=False,\n",
    "              config_file=\"sasn_config.yaml\",\n",
    "              val_scores_save_path=validation_scores_csv_path,\n",
    "              test_scores_save_path=test_scores_csv_path)"
   ]
  },
  {
   "cell_type": "code",
   "execution_count": 33,
   "metadata": {},
   "outputs": [
    {
     "name": "stdout",
     "output_type": "stream",
     "text": [
      "dict_keys(['epoch', 'global_step', 'pytorch-lightning_version', 'state_dict', 'loops', 'callbacks', 'optimizer_states', 'lr_schedulers'])\n",
      "Val Lengths:  303   303\n",
      "val_metric_scores:  {'accuracy': tensor(0.7261), 'F1 score': tensor(0.7930), 'precision': tensor(0.9578), 'recall': tensor(0.6766), 'specificity': tensor(0.8971), 'auroc': tensor(0.8568), 'avg precision': tensor(0.9487)}\n",
      "Test Lengths:  553   553\n",
      "test_metric_scores:  {'accuracy': tensor(0.7523), 'F1 score': tensor(0.8351), 'precision': tensor(0.9858), 'recall': tensor(0.7244), 'specificity': tensor(0.9324), 'auroc': tensor(0.8973), 'avg precision': tensor(0.9821)}\n",
      "Validation Metric Scores: {'accuracy': tensor(0.7261), 'F1 score': tensor(0.7930), 'precision': tensor(0.9578), 'recall': tensor(0.6766), 'specificity': tensor(0.8971), 'auroc': tensor(0.8568), 'avg precision': tensor(0.9487)} \n",
      "Test Metric Scores: {'accuracy': tensor(0.7523), 'F1 score': tensor(0.8351), 'precision': tensor(0.9858), 'recall': tensor(0.7244), 'specificity': tensor(0.9324), 'auroc': tensor(0.8973), 'avg precision': tensor(0.9821)}\n"
     ]
    }
   ],
   "source": [
    "evaluate_SASN(model=sasn_split.SiameseNetwork(include_feature_comparison=False),\n",
    "              model_name=\"sasn_split\",\n",
    "              model_path=os.path.join(config.BASE_DIR, experiments[\"SASN_split\"][\"model_path\"]),\n",
    "              pickle_path=os.path.join(config.BASE_DIR, experiments[\"SASN_split\"][\"labels_pickle_path\"]),\n",
    "              experiment_name=experiments[\"SASN_split\"][\"exp_name\"],\n",
    "              threshold=0.5,\n",
    "              sasn_contrastive=False,\n",
    "              config_file=\"sasn_config.yaml\",\n",
    "              val_scores_save_path=validation_scores_csv_path,\n",
    "              test_scores_save_path=test_scores_csv_path)"
   ]
  },
  {
   "cell_type": "code",
   "execution_count": null,
   "metadata": {},
   "outputs": [],
   "source": [
    "evaluate_ChexNet_baseline(model_path=os.path.join(config.BASE_DIR, experiments[\"CheXNet\"][\"model_path\"]),\n",
    "                          pickle_path=os.path.join(config.BASE_DIR, experiments[\"CheXNet\"][\"labels_pickle_path\"]),\n",
    "                          experiment_name=experiments[\"CheXNet\"][\"exp_name\"],\n",
    "                          threshold=0.5,\n",
    "                          config_file=\"chexnet_config.yaml\",\n",
    "                          val_scores_save_path=validation_scores_csv_path,\n",
    "                          test_scores_save_path=test_scores_csv_path)"
   ]
  },
  {
   "cell_type": "code",
   "execution_count": null,
   "metadata": {},
   "outputs": [],
   "source": [
    "evaluate_maskrcnn(model_path=os.path.join(config.BASE_DIR, experiments[\"MaskRCNN\"][\"model_path\"]),\n",
    "                  pickle_path=os.path.join(config.BASE_DIR, experiments[\"MaskRCNN\"][\"labels_pickle_path\"]),\n",
    "                  experiment_name=experiments[\"MaskRCNN\"][\"exp_name\"],\n",
    "                  threshold=0.5,\n",
    "                  config_file=\"maskrcnn_config.yaml\",\n",
    "                  test_scores_save_path=test_scores_csv_path)"
   ]
  },
  {
   "cell_type": "code",
   "execution_count": 21,
   "metadata": {},
   "outputs": [
    {
     "name": "stdout",
     "output_type": "stream",
     "text": [
      "Validation Metric Scores: {'accuracy': tensor(0.7757), 'F1 score': tensor(0.7604), 'precision': tensor(0.7828), 'recall': tensor(0.7393), 'specificity': tensor(0.8095), 'auroc': tensor(0.8533), 'avg precision': tensor(0.8489)} \n",
      "Test Metric Scores: {'accuracy': tensor(0.7685), 'F1 score': tensor(0.8483), 'precision': tensor(0.9808), 'recall': tensor(0.7474), 'specificity': tensor(0.9054), 'auroc': tensor(0.8839), 'avg precision': tensor(0.9796)}\n"
     ]
    }
   ],
   "source": [
    "evaluate_basic_model(model=basic_model.Network(),\n",
    "                     model_name=\"basic_model\",\n",
    "                     model_path=os.path.join(config.BASE_DIR, experiments[\"basic_model\"][\"model_path\"]),\n",
    "                     pickle_path=os.path.join(config.BASE_DIR, experiments[\"basic_model\"][\"labels_pickle_path\"]),\n",
    "                     experiment_name=experiments[\"basic_model\"][\"exp_name\"],\n",
    "                     threshold=0.5,\n",
    "                     config_file=\"sasn_config.yaml\",\n",
    "                     val_scores_save_path=validation_scores_csv_path,\n",
    "                     test_scores_save_path=test_scores_csv_path)"
   ]
  },
  {
   "cell_type": "code",
   "execution_count": 34,
   "metadata": {},
   "outputs": [],
   "source": [
    "SASN_vanilla_preds_targets = eval_utils.load_experiment_preds_targets(file_name=experiments[\"SASN_vanilla\"][\"labels_pickle_path\"])\n",
    "SASN_split_preds_targets = eval_utils.load_experiment_preds_targets(file_name=experiments[\"SASN_split\"][\"labels_pickle_path\"])\n",
    "#CheXNet_preds_targets = eval_utils.load_experiment_preds_targets(file_name=experiments[\"CheXNet\"][\"labels_pickle_path\"])\n",
    "#maskrcnn_preds_targets = eval_utils.load_experiment_preds_targets(file_name=experiments[\"MaskRCNN\"][\"labels_pickle_path\"])\n",
    "\n",
    "SASN_vanilla_val_preds, SASN_vanilla_val_targets = SASN_vanilla_preds_targets[\"val_pred_labels\"], SASN_vanilla_preds_targets[\"val_target_labels\"]\n",
    "SASN_vanilla_test_preds, SASN_vanilla_test_targets = SASN_vanilla_preds_targets[\"test_pred_labels\"], SASN_vanilla_preds_targets[\"test_target_labels\"]\n",
    "\n",
    "SASN_split_val_preds, SASN_split_val_targets = SASN_split_preds_targets[\"val_pred_labels\"], SASN_split_preds_targets[\"val_target_labels\"]\n",
    "SASN_split_test_preds, SASN_split_test_targets = SASN_split_preds_targets[\"test_pred_labels\"], SASN_split_preds_targets[\"test_target_labels\"]\n",
    "\n",
    "#CheXNet_val_preds, CheXNet_val_targets = CheXNet_preds_targets[\"val_pred_labels\"], CheXNet_preds_targets[\"val_target_labels\"]\n",
    "#CheXNet_test_preds, CheXNet_test_targets = CheXNet_preds_targets[\"test_pred_labels\"], CheXNet_preds_targets[\"test_target_labels\"]\n",
    "\n",
    "#MaskRCNN_test_preds, MaskRCNN_test_targets = maskrcnn_preds_targets[\"test_pred_labels\"], maskrcnn_preds_targets[\"test_target_labels\"]"
   ]
  },
  {
   "cell_type": "code",
   "execution_count": 22,
   "metadata": {},
   "outputs": [],
   "source": [
    "basic_model_preds_targets = eval_utils.load_experiment_preds_targets(file_name=experiments[\"basic_model\"][\"labels_pickle_path\"])\n",
    "basic_model_val_preds, basic_model_val_targets = basic_model_preds_targets[\"val_pred_labels\"], basic_model_preds_targets[\"val_target_labels\"]\n",
    "basic_model_test_preds, basic_model_test_targets = basic_model_preds_targets[\"test_pred_labels\"], basic_model_preds_targets[\"test_target_labels\"]"
   ]
  },
  {
   "cell_type": "code",
   "execution_count": 35,
   "metadata": {},
   "outputs": [],
   "source": [
    "def get_best_thresholds(preds, targets, to_save=False, exp_name=\"\", save_path=None): \n",
    "    result = eval_utils.get_best_threshold_for_F1(preds, targets, threshold_range=(0.01,0.99,0.01))  #threshold_range=(0.01,0.99,0.01)\n",
    "    print(result)\n",
    "    best_threshold = result[\"thresh\"]\n",
    "\n",
    "    test_metric_scores = eval_utils.calculate_metrics(preds, targets, threshold=best_threshold)\n",
    "    print(test_metric_scores)\n",
    "    \n",
    "    if to_save:\n",
    "        eval_utils.save_score_table(test_metric_scores, experiment_name=exp_name, threshold=best_threshold, save_path=test_scores_csv_path)\n",
    "\n",
    "    result = eval_utils.get_best_threshold_for_balanced_acc(preds, targets)\n",
    "    print(result)\n",
    "    best_threshold = result[\"thresh\"]\n",
    "\n",
    "    test_metric_scores = eval_utils.calculate_metrics(preds, targets, threshold=best_threshold)\n",
    "    print(test_metric_scores)\n",
    "    \n",
    "    if to_save:\n",
    "        eval_utils.save_score_table(test_metric_scores, experiment_name=exp_name, threshold=best_threshold, save_path=test_scores_csv_path)"
   ]
  },
  {
   "cell_type": "code",
   "execution_count": 38,
   "metadata": {},
   "outputs": [],
   "source": [
    "#predictions, targets, model_name, exp_name = SASN_vanilla_test_preds, SASN_vanilla_test_targets, \"sasn_vanilla\", experiments[\"SASN_vanilla\"][\"exp_name\"]\n",
    "predictions, targets, model_name, exp_name = SASN_split_test_preds, SASN_split_test_targets, \"sasn_split\", experiments[\"SASN_split\"][\"exp_name\"]\n",
    "#predictions, targets, model_name, exp_name = CheXNet_test_preds, CheXNet_test_targets, \"CheXNet\", experiments[\"CheXNet\"][\"exp_name\"]\n",
    "#predictions, targets, model_name, exp_name = MaskRCNN_test_preds, MaskRCNN_test_targets, \"MaskRCNN\", experiments[\"MaskRCNN\"][\"exp_name\"]\n",
    "#predictions, targets, model_name, exp_name = basic_model_test_preds, basic_model_test_targets, \"basic_model\", experiments[\"basic_model_seed22\"][\"exp_name\"]"
   ]
  },
  {
   "cell_type": "code",
   "execution_count": 39,
   "metadata": {},
   "outputs": [
    {
     "name": "stdout",
     "output_type": "stream",
     "text": [
      "{'thresh': 0.02, 'F1 Score': 93.78}\n",
      "{'accuracy': tensor(0.8897), 'F1 score': tensor(0.9378), 'precision': tensor(0.9163), 'recall': tensor(0.9603), 'specificity': tensor(0.4324), 'auroc': tensor(0.8973), 'avg precision': tensor(0.9821)}\n",
      "thresh: 0.1 Val Balanced Acc: 0.8110787868499756\n",
      "thresh: 0.2 Val Balanced Acc: 0.8104722499847412\n",
      "thresh: 0.3 Val Balanced Acc: 0.8223353624343872\n",
      "thresh: 0.4 Val Balanced Acc: 0.8149720430374146\n",
      "thresh: 0.5 Val Balanced Acc: 0.8284291625022888\n",
      "thresh: 0.6 Val Balanced Acc: 0.8138153553009033\n",
      "thresh: 0.7 Val Balanced Acc: 0.788763165473938\n",
      "thresh: 0.8 Val Balanced Acc: 0.7688738107681274\n",
      "thresh: 0.9 Val Balanced Acc: 0.7150877714157104\n",
      "{'thresh': 0.5, 'Balanced Acc': 82.84}\n",
      "{'accuracy': tensor(0.7523), 'F1 score': tensor(0.8351), 'precision': tensor(0.9858), 'recall': tensor(0.7244), 'specificity': tensor(0.9324), 'auroc': tensor(0.8973), 'avg precision': tensor(0.9821)}\n"
     ]
    }
   ],
   "source": [
    "get_best_thresholds(predictions, targets, to_save=True, exp_name=exp_name, save_path=test_scores_csv_path)"
   ]
  },
  {
   "cell_type": "code",
   "execution_count": 35,
   "metadata": {},
   "outputs": [
    {
     "name": "stderr",
     "output_type": "stream",
     "text": [
      "/root/MastersThesis/venv/lib/python3.8/site-packages/torchmetrics/utilities/prints.py:36: UserWarning: Torchmetrics v0.9 introduced a new argument class property called `full_state_update` that has\n",
      "                not been set for this class (BootStrapper). The property determines if `update` by\n",
      "                default needs access to the full metric state. If this is not the case, significant speedups can be\n",
      "                achieved and we recommend setting this to `False`.\n",
      "                We provide an checking function\n",
      "                `from torchmetrics.utilities import check_forward_full_state_property`\n",
      "                that can be used to check if the `full_state_update=True` (old and potential slower behaviour,\n",
      "                default for now) or if `full_state_update=False` can be used safely.\n",
      "                \n",
      "  warnings.warn(*args, **kwargs)\n"
     ]
    },
    {
     "name": "stdout",
     "output_type": "stream",
     "text": [
      "Significance interval for F1 Score: [77.68, 83.32]\n",
      "Significance interval for AUROC: [85.26, 92.55]\n",
      "Significance interval for recall: [63.55, 72.5]\n",
      "Significance interval for specificity: [86.34, 98.65]\n",
      "Significance interval for balanced accuracy: [74.94, 85.58]\n",
      "Significance interval for average precision: [96.99, 98.66]\n"
     ]
    }
   ],
   "source": [
    "thresh = 0.5\n",
    "\n",
    "_ = show_significance_interval_F1(predictions, targets, threshold=thresh, model=model_name, return_figure=False)\n",
    "_ = show_significance_interval_AUROC(predictions, targets, model=model_name, return_figure=False)\n",
    "_ = show_significance_interval_balanced_acc(predictions, targets, threshold=thresh, model=model_name, return_figure=False)\n",
    "_ = show_significance_interval_AP(predictions, targets, model=model_name, return_figure=False)"
   ]
  },
  {
   "attachments": {},
   "cell_type": "markdown",
   "metadata": {},
   "source": [
    "----------"
   ]
  },
  {
   "cell_type": "markdown",
   "metadata": {},
   "source": [
    "## ROC curve and Precision-Recall curve"
   ]
  },
  {
   "cell_type": "code",
   "execution_count": null,
   "metadata": {},
   "outputs": [],
   "source": [
    "def get_data(pickle_file):\n",
    "    if pickle_file is None or pickle_file==\"None\":\n",
    "        print(\"No such file or directory\")\n",
    "        return\n",
    "    with open(pickle_file, 'rb') as file:\n",
    "        data = pickle.load(file)\n",
    "    return data"
   ]
  },
  {
   "cell_type": "code",
   "execution_count": 12,
   "metadata": {},
   "outputs": [],
   "source": [
    "SASN_vanilla_pred_labels_path = os.path.join(config.BASE_DIR, \"notebooks/preds_targets_imbalanced_data/labels/set1/exp2_spicedpie47_preds_vals.pickle\")\n",
    "SASN_split_pred_labels_path = os.path.join(config.BASE_DIR, \"notebooks/preds_targets_imbalanced_data/labels/set1/exp6_stoicyogurt48_preds_vals.pickle\")\n",
    "CheXNet_pred_labels_path = os.path.join(config.BASE_DIR, \"notebooks/preds_targets_imbalanced_data/labels/set1/baseline_etherealgorge49_preds_targets.pickle\")\n",
    "MaskRCNN_pred_labels_path = os.path.join(config.BASE_DIR, \"notebooks/preds_targets_imbalanced_data/labels/set1/maskrcnn-genial-planet-58.pickle\")\n",
    "\n",
    "SASN_vanilla_test_pred_labels = get_data(SASN_vanilla_pred_labels_path)[\"test_pred_labels\"]\n",
    "SASN_split_test_pred_labels = get_data(SASN_split_pred_labels_path)[\"test_pred_labels\"]\n",
    "CheXNet_test_pred_labels = get_data(CheXNet_pred_labels_path)[\"test_pred_labels\"]\n",
    "MaskRCNN_test_pred_labels = get_data(MaskRCNN_pred_labels_path)[\"test_pred_labels\"]"
   ]
  },
  {
   "cell_type": "code",
   "execution_count": 13,
   "metadata": {},
   "outputs": [],
   "source": [
    "import os\n",
    "import medai.config as config\n",
    "from medai.data.loader import ChestDataModule\n",
    "from medai.data.datasets import ChestXDetDataset\n",
    "\n",
    "config_file = \"config.yaml\"\n",
    "config_file_path = os.path.join(config.CONFIG_DIR, config_file)\n",
    "with open(config_file_path, \"r\") as stream:\n",
    "    params = yaml.safe_load(stream)\n",
    "\n",
    "params[\"dataloader\"][\"batch_size\"] = 1\n",
    "params[\"dataset\"][\"train\"][\"transform\"] = None\n",
    "\n",
    "sasn_data_module = ChestDataModule(dataset_class=ChestXDetDataset, **params[\"dataloader\"])\n",
    "sasn_data_module.setup(\"fit\", **params[\"dataset\"][\"train\"])\n",
    "sasn_data_module.setup(\"test\", **params[\"dataset\"][\"test\"])"
   ]
  },
  {
   "cell_type": "code",
   "execution_count": 6,
   "metadata": {},
   "outputs": [
    {
     "data": {
      "text/plain": [
       "{'Healthy': 71, 'Diseased': 482}"
      ]
     },
     "execution_count": 6,
     "metadata": {},
     "output_type": "execute_result"
    }
   ],
   "source": [
    "sasn_data_module.test_dataset.num_binary_labels"
   ]
  },
  {
   "cell_type": "code",
   "execution_count": 7,
   "metadata": {},
   "outputs": [],
   "source": [
    "import torch\n",
    "\n",
    "test_target_labels = torch.asarray([])\n",
    "for sample in sasn_data_module.test_dataloader:\n",
    "    img, img_f, target_map = sample\n",
    "    with torch.no_grad():\n",
    "        test_target_labels = torch.hstack((test_target_labels, torch.max(target_map.detach().cpu().reshape(len(target_map), -1), dim=1)[0]))"
   ]
  },
  {
   "cell_type": "code",
   "execution_count": 27,
   "metadata": {},
   "outputs": [],
   "source": [
    "from torchmetrics import ROC, PrecisionRecallCurve\n",
    "from torchmetrics.classification import BinaryROC\n",
    "\n",
    "def roc_curve(pred, target):\n",
    "    roc = ROC(task=\"binary\")\n",
    "    #roc = BinaryROC(thresholds=50)\n",
    "    fpr, tpr, thresholds = roc(pred, target)\n",
    "    return fpr, tpr, thresholds\n",
    "\n",
    "def pr_curve(pred, target):\n",
    "    pr_curve = PrecisionRecallCurve(task=\"binary\")\n",
    "    precision, recall, thresholds = pr_curve(pred, target)\n",
    "    return precision, recall, thresholds"
   ]
  },
  {
   "cell_type": "code",
   "execution_count": 28,
   "metadata": {},
   "outputs": [],
   "source": [
    "SASN_vanilla_fpr_tpr_thresh = roc_curve(SASN_vanilla_test_pred_labels, test_target_labels)\n",
    "SASN_split_fpr_tpr_thresh = roc_curve(SASN_split_test_pred_labels, test_target_labels)\n",
    "CheXNet_fpr_tpr_thresh = roc_curve(CheXNet_test_pred_labels, test_target_labels)\n",
    "MaskRCNN_fpr_tpr_thresh = roc_curve(MaskRCNN_test_pred_labels, test_target_labels)"
   ]
  },
  {
   "cell_type": "code",
   "execution_count": 29,
   "metadata": {},
   "outputs": [],
   "source": [
    "SASN_vanilla_prec_recall_thresh = pr_curve(SASN_vanilla_test_pred_labels, test_target_labels)\n",
    "SASN_split_prec_recall_thresh = pr_curve(SASN_split_test_pred_labels, test_target_labels)\n",
    "CheXNet_prec_recall_thresh = pr_curve(CheXNet_test_pred_labels, test_target_labels)\n",
    "MaskRCNN_prec_recall_thresh = pr_curve(MaskRCNN_test_pred_labels, test_target_labels)"
   ]
  },
  {
   "cell_type": "code",
   "execution_count": 38,
   "metadata": {},
   "outputs": [
    {
     "data": {
      "image/png": "[encoded data removed]",
      "text/plain": [
       "<Figure size 640x480 with 1 Axes>"
      ]
     },
     "metadata": {},
     "output_type": "display_data"
    }
   ],
   "source": [
    "import matplotlib.pyplot as plt\n",
    "plt.plot(SASN_vanilla_fpr_tpr_thresh[0], SASN_vanilla_fpr_tpr_thresh[1], label=\"$SASN_{vanilla}$\")\n",
    "plt.plot(SASN_split_fpr_tpr_thresh[0], SASN_split_fpr_tpr_thresh[1], label=\"$SASN_{split}$\")\n",
    "plt.plot(CheXNet_fpr_tpr_thresh[0], CheXNet_fpr_tpr_thresh[1], label=\"CheXNet\")\n",
    "plt.plot(MaskRCNN_fpr_tpr_thresh[0], MaskRCNN_fpr_tpr_thresh[1], label=\"Mask R-CNN\")\n",
    "plt.xlabel(\"False positive rate\")\n",
    "plt.ylabel(\"True positive rate\")\n",
    "plt.legend()\n",
    "plt.savefig(\"roc_curve.svg\")"
   ]
  },
  {
   "cell_type": "code",
   "execution_count": 36,
   "metadata": {},
   "outputs": [
    {
     "data": {
      "image/png": "[encoded data removed]",
      "text/plain": [
       "<Figure size 640x480 with 1 Axes>"
      ]
     },
     "metadata": {},
     "output_type": "display_data"
    }
   ],
   "source": [
    "import matplotlib.pyplot as plt\n",
    "plt.plot(SASN_vanilla_prec_recall_thresh[1], SASN_vanilla_prec_recall_thresh[0], label=\"$SASN_{vanilla}$\")\n",
    "plt.plot(SASN_split_prec_recall_thresh[1], SASN_split_prec_recall_thresh[0], label=\"$SASN_{split}$\")\n",
    "plt.plot(CheXNet_prec_recall_thresh[1], CheXNet_prec_recall_thresh[0], label=\"CheXNet\")\n",
    "plt.plot(MaskRCNN_prec_recall_thresh[1], MaskRCNN_prec_recall_thresh[0], label=\"Mask R-CNN\")\n",
    "plt.xlabel(\"Recall\")\n",
    "plt.ylabel(\"Precision\")\n",
    "plt.legend()\n",
    "plt.savefig(\"pr_curve.svg\")"
   ]
  }
 ],
 "metadata": {
  "kernelspec": {
   "display_name": "venv",
   "language": "python",
   "name": "python3"
  },
  "language_info": {
   "codemirror_mode": {
    "name": "ipython",
    "version": 3
   },
   "file_extension": ".py",
   "mimetype": "text/x-python",
   "name": "python",
   "nbconvert_exporter": "python",
   "pygments_lexer": "ipython3",
   "version": "3.8.10"
  },
  "orig_nbformat": 4,
  "vscode": {
   "interpreter": {
    "hash": "e010982c4c86adf22dc679ed55666493afa3e1c223f91e9734e0ffd77d1ec2d3"
   }
  }
 },
 "nbformat": 4,
 "nbformat_minor": 2
}
